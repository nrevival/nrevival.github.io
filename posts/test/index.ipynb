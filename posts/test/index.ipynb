{
 "cells": [
  {
   "cell_type": "markdown",
   "metadata": {},
   "source": [
    "이곳에 글을 작성하세요."
   ]
  }
 ],
 "metadata": {
  "kernelspec": {
   "display_name": "Python 3",
   "env": {},
   "interrupt_mode": "signal",
   "language": "python",
   "metadata": {},
   "name": "python3"
  },
  "nikola": {
   "category": "",
   "date": "2018-12-12 23:32:39 UTC+09:00",
   "description": "",
   "link": "",
   "slug": "test",
   "tags": "",
   "title": "test",
   "type": "text"
  }
 },
 "nbformat": 4,
 "nbformat_minor": 2
}
